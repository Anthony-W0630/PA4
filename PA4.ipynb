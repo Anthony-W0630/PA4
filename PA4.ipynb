{
 "cells": [
  {
   "cell_type": "markdown",
   "id": "db926789",
   "metadata": {},
   "source": [
    "# Programing Assignment 4\n",
    "### Anthony Wayman\n",
    "### Version 1\n",
    "### CS-150 \n",
    "### Fall 2023\n"
   ]
  },
  {
   "cell_type": "markdown",
   "id": "9428257a",
   "metadata": {},
   "source": [
    "## Task 1 \n",
    "A. Create a list named grades containing five numerical grades (0-100).\n",
    "\n",
    "B. Calculate the average grade from the list.\n",
    "\n",
    "C. Use an if-else condition to determine the letter grade based on the average as follows:\n",
    "\n",
    "90-100: \"A\"\n",
    "\n",
    "80-89: \"B\"\n",
    "\n",
    "70-79: \"C\"\n",
    "\n",
    "60-69: \"D\"\n",
    "\n",
    "Below 60: \"F\"\n",
    "\n",
    "Print the average grade and corresponding letter grade."
   ]
  },
  {
   "cell_type": "code",
   "execution_count": 33,
   "id": "a8e556b1",
   "metadata": {},
   "outputs": [],
   "source": [
    "grades=[90,100,65,80,89]"
   ]
  },
  {
   "cell_type": "code",
   "execution_count": 34,
   "id": "64f1565c",
   "metadata": {},
   "outputs": [
    {
     "name": "stdout",
     "output_type": "stream",
     "text": [
      "The average grade is: 84.8\n"
     ]
    }
   ],
   "source": [
    "avg_grade=sum(grades)/5\n",
    "print(f\"The average grade is: {avg_grade}\")"
   ]
  },
  {
   "cell_type": "code",
   "execution_count": 35,
   "id": "12753744",
   "metadata": {},
   "outputs": [
    {
     "name": "stdout",
     "output_type": "stream",
     "text": [
      "The letter grade is: B\n",
      "The average grade is: 84.8\n"
     ]
    }
   ],
   "source": [
    "if avg_grade>=100:\n",
    "    print(\"INVALID\")\n",
    "elif avg_grade>=90:\n",
    "    print(\"The letter grade is: A\")\n",
    "elif avg_grade>=80:\n",
    "    print(\"The letter grade is: B\")\n",
    "elif avg_grade>=70:\n",
    "    print(\"The letter grade is: C\")\n",
    "elif avg_grade>=60:\n",
    "    print(\"The letter grade is: D\")\n",
    "else:\n",
    "    print(\"The letter grade is: F\")\n",
    "print(f\"The average grade is: {avg_grade}\")"
   ]
  },
  {
   "cell_type": "markdown",
   "id": "7e128e00",
   "metadata": {},
   "source": [
    "## Task 2 \n",
    "\n",
    "A. Create a tuple named student with your first name, last name, age, and a subject (in that\n",
    "order).\n",
    " \n",
    "B. Use tuple unpacking and an if-else condition to check if the student's age is above 18.\n",
    "\n",
    "C. If the age is above 18, print a message indicating that the student is an adult, otherwise print\n",
    "a message indicating that the student is a minor."
   ]
  },
  {
   "cell_type": "code",
   "execution_count": 36,
   "id": "14eb1710",
   "metadata": {},
   "outputs": [],
   "source": [
    "student=('Anthony','Wayman',17,'Math')"
   ]
  },
  {
   "cell_type": "code",
   "execution_count": 37,
   "id": "3d307265",
   "metadata": {},
   "outputs": [
    {
     "name": "stdout",
     "output_type": "stream",
     "text": [
      "You are a minor\n"
     ]
    }
   ],
   "source": [
    "first_name, last_name, age, subject=student\n",
    "if age>=18:\n",
    "    print(\"You are an adult\")\n",
    "else:\n",
    "    print(\"You are a minor\")"
   ]
  },
  {
   "cell_type": "markdown",
   "id": "fe04a382",
   "metadata": {},
   "source": [
    "## Task 3\n",
    "\n",
    " - Write a Python program that will accept a number from 1 to 12 and display the name of the\n",
    "month and days in the month. Consider that the year is a regular year."
   ]
  },
  {
   "cell_type": "code",
   "execution_count": 41,
   "id": "37c2da8f",
   "metadata": {},
   "outputs": [
    {
     "name": "stdout",
     "output_type": "stream",
     "text": [
      "Enter a month 1-12: 7\n",
      "The month is July, it has 31 days\n"
     ]
    }
   ],
   "source": [
    "number=int(input(\"Enter a month 1-12: \"))\n",
    "if number==1:\n",
    "    print(\"The month is January, it has 31 days\")\n",
    "elif number==2:\n",
    "    print(\"The month is Febuary, it has 28 days\")\n",
    "elif number==3:\n",
    "    print(\"The month is March, it has 31 days\")\n",
    "elif number==4:\n",
    "    print(\"The month is April, it has 30 days\")\n",
    "elif number==5:\n",
    "    print(\"The month is May, it has 31 days\")\n",
    "elif number==6:\n",
    "    print(\"The month is June, it has 30 days\")\n",
    "elif number==7:\n",
    "    print(\"The month is July, it has 31 days\")\n",
    "elif number==8:\n",
    "    print(\"The month is August, it has 31 days\")\n",
    "elif number==9:\n",
    "    print(\"The month is September, it has 30 days\")\n",
    "elif number==10:\n",
    "    print(\"The month is October, it has 31 days\")\n",
    "elif number==11:\n",
    "    print(\"The month is November, it has 30 days\")\n",
    "elif number==12:\n",
    "    print(\"The month is December, it has 31 days\")"
   ]
  },
  {
   "cell_type": "markdown",
   "id": "deeed846",
   "metadata": {},
   "source": [
    "## Task 4\n",
    "\n",
    " - Accept three sides of a triangle and check whether it is an equilateral, isosceles, or scalene\n",
    "triangle."
   ]
  },
  {
   "cell_type": "code",
   "execution_count": 53,
   "id": "9ac376be",
   "metadata": {},
   "outputs": [
    {
     "name": "stdout",
     "output_type": "stream",
     "text": [
      "Enter the base of a triangle: 1\n",
      "Enter the second side : 2\n",
      "Enter the third side : 3\n",
      "It's a scalene triangle!\n"
     ]
    }
   ],
   "source": [
    "side1=int(input(\"Enter the base of a triangle: \"))\n",
    "side2=int(input(\"Enter the second side : \"))\n",
    "side3=int(input(\"Enter the third side : \"))\n",
    "if side1==side2 and side1==side3:\n",
    "    print(\"It's an equilateral triangle!\")\n",
    "elif side2==side3 or side1==side3 or side1==side2:\n",
    "    print(\"It's an isoscelese triangle!\")\n",
    "else:\n",
    "    print(\"It's a scalene triangle!\")"
   ]
  },
  {
   "cell_type": "markdown",
   "id": "64bcde47",
   "metadata": {},
   "source": [
    "## Task 5\n",
    "\n",
    "A. Create a list of named numbers containing integers from 21 to 40.\n",
    "\n",
    "B. Use list comprehension to create a new list named even_squares containing the squares of\n",
    "even numbers from numbers.\n",
    "\n",
    "C. Use list comprehension to create a new list named odd_cubes containing the cubes of odd\n",
    "numbers from numbers"
   ]
  },
  {
   "cell_type": "code",
   "execution_count": 59,
   "id": "32ff564a",
   "metadata": {},
   "outputs": [],
   "source": [
    "numbers=[21,22,23,24,25,26,27,28,29,30,31,32,33,34,35,36,37,38,39,40]"
   ]
  },
  {
   "cell_type": "code",
   "execution_count": 64,
   "id": "5a8eba79",
   "metadata": {},
   "outputs": [
    {
     "name": "stdout",
     "output_type": "stream",
     "text": [
      "[44, 48, 52, 56, 60, 64, 68, 72, 76, 80]\n"
     ]
    }
   ],
   "source": [
    "even_squares= [i**2 for i in numbers if (i%2==0)]\n",
    "print(even_squares)"
   ]
  },
  {
   "cell_type": "code",
   "execution_count": 66,
   "id": "0935a1c2",
   "metadata": {},
   "outputs": [
    {
     "name": "stdout",
     "output_type": "stream",
     "text": [
      "[63, 69, 75, 81, 87, 93, 99, 105, 111, 117]\n"
     ]
    }
   ],
   "source": [
    "odd_cubes= [i**3 for i in numbers if (i%2==1)]\n",
    "print(odd_cubes)"
   ]
  }
 ],
 "metadata": {
  "kernelspec": {
   "display_name": "Python 3 (ipykernel)",
   "language": "python",
   "name": "python3"
  },
  "language_info": {
   "codemirror_mode": {
    "name": "ipython",
    "version": 3
   },
   "file_extension": ".py",
   "mimetype": "text/x-python",
   "name": "python",
   "nbconvert_exporter": "python",
   "pygments_lexer": "ipython3",
   "version": "3.11.4"
  }
 },
 "nbformat": 4,
 "nbformat_minor": 5
}
